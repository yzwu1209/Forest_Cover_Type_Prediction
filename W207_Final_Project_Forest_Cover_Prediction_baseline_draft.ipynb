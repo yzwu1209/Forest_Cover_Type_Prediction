{
 "cells": [
  {
   "cell_type": "markdown",
   "metadata": {},
   "source": [
    "# Forest Cover Prediction\n",
    "\n",
    "- **Class Section: 2019 Summer - Monday 6:30 PM**\n",
    "\n",
    "- **Project Team: Adam Sohn, Curtis Lin, Erik Hou, Youzhi (Chloe) Wu**\n"
   ]
  },
  {
   "cell_type": "markdown",
   "metadata": {},
   "source": [
    "====================================================================================================================="
   ]
  },
  {
   "cell_type": "markdown",
   "metadata": {},
   "source": [
    "*The following section is intended for action items and discussions among project team. It is not part of the final report.* "
   ]
  },
  {
   "cell_type": "markdown",
   "metadata": {},
   "source": [
    "### <font color=red>  Please change the name in your own models based on the updated naming (in updated naming session) </font>\n",
    "\n",
    "\n",
    "`for EDA`\n",
    "train_raw_df\n",
    "train_df\n",
    "\n",
    "\n",
    "`for data analysis`\n",
    "train_data, train_labels \n",
    "dev_data, dev_labels \n",
    "test_data, test_labels"
   ]
  },
  {
   "cell_type": "markdown",
   "metadata": {},
   "source": [
    "# *Notes: Scoring Criteria*\n",
    "\n",
    "- Problem description (10)\n",
    "\n",
    "- Sensible methods (25) \n",
    "\n",
    "- Feature Engineering (20)\n",
    "\n",
    "- Error analysis (15) \n",
    "\n",
    "- Notebook Presentation (10) \n",
    "\n",
    "- Good results (10) \n",
    "\n",
    "- In class pesentation (10) \n",
    "\n",
    "- Late (-10)"
   ]
  },
  {
   "cell_type": "markdown",
   "metadata": {},
   "source": [
    "### <font color=red> Feature engineering to be completed</font>\n",
    "\n",
    "    - PCA on soil type"
   ]
  },
  {
   "cell_type": "markdown",
   "metadata": {},
   "source": [
    "### <font color=red>Models has been tested but still needs to be improved:</font>\n",
    "\n",
    "    - kNN\n",
    "    \n",
    "    - GaussianNB\n",
    "    \n",
    "    - Decision Tree\n",
    "    \n",
    "    - Random Forest (best so far)\n",
    "    \n",
    "    - Logistic Regression\n",
    "    \n",
    "    - SVM"
   ]
  },
  {
   "cell_type": "markdown",
   "metadata": {},
   "source": [
    "### <font color=red>  Models has not been tested:</font>\n",
    "\n",
    "    - Neural network\n",
    "    \n",
    "    - Multinomial naive bayes"
   ]
  },
  {
   "cell_type": "markdown",
   "metadata": {},
   "source": [
    "### <font color=red>  Propose layout for report</font>\n",
    "\n",
    "- Problem description & objectives\n",
    "\n",
    "- Package loading and data loading\n",
    "\n",
    "- EDA\n",
    "\n",
    "- Run through different models: for each model, feature engineering based on the model -> Error analysis\n",
    "\n",
    "- Comparison on all models: pros and cons of each model, which model is optimal and why\n",
    "\n",
    "- Summary and conclusion\n",
    "\n"
   ]
  },
  {
   "cell_type": "markdown",
   "metadata": {},
   "source": [
    "*The actual report begins from here...*"
   ]
  },
  {
   "cell_type": "markdown",
   "metadata": {},
   "source": [
    "====================================================================================================================="
   ]
  },
  {
   "cell_type": "markdown",
   "metadata": {},
   "source": [
    "## 1. Problem Description & Objectives"
   ]
  },
  {
   "cell_type": "markdown",
   "metadata": {},
   "source": [
    "The objectives of this project is to predict the forest canopy cover type by using cartographic variables only. In this project, we would tackle this multi-class problem by modeling with different algorithms and approaches."
   ]
  },
  {
   "cell_type": "markdown",
   "metadata": {},
   "source": [
    "====================================================================================================================="
   ]
  },
  {
   "cell_type": "markdown",
   "metadata": {},
   "source": [
    "## 2. Package & Data Loading"
   ]
  },
  {
   "cell_type": "code",
   "execution_count": 1,
   "metadata": {},
   "outputs": [],
   "source": [
    "%matplotlib inline\n",
    "\n",
    "# General libraries\n",
    "import csv\n",
    "import time\n",
    "import numpy as np\n",
    "import pandas as pd\n",
    "import matplotlib\n",
    "import matplotlib.pyplot as plt\n",
    "import matplotlib.font_manager as fm\n",
    "from matplotlib.ticker import MultipleLocator\n",
    "import seaborn as sns\n",
    "from collections import defaultdict\n",
    "from numpy import genfromtxt\n",
    "\n",
    "# SK-learn libraries for learning.\n",
    "from sklearn import preprocessing\n",
    "from sklearn.pipeline import Pipeline\n",
    "from sklearn.model_selection import GridSearchCV\n",
    "from sklearn.preprocessing import PolynomialFeatures\n",
    "from sklearn.model_selection import train_test_split\n",
    "\n",
    "# SK-learn model packages \n",
    "from sklearn import svm\n",
    "from sklearn import tree\n",
    "from sklearn.neighbors import KNeighborsClassifier\n",
    "from sklearn.linear_model import LogisticRegression\n",
    "from sklearn.naive_bayes import BernoulliNB\n",
    "from sklearn.naive_bayes import MultinomialNB\n",
    "from sklearn.naive_bayes import GaussianNB\n",
    "from sklearn.tree import DecisionTreeClassifier\n",
    "from sklearn.ensemble import RandomForestRegressor\n",
    "from sklearn.ensemble import RandomForestClassifier \n",
    "from sklearn.ensemble import AdaBoostClassifier \n",
    "\n",
    "# SK-learn libraries for evaluation.\n",
    "from sklearn import metrics\n",
    "from sklearn.metrics import accuracy_score\n",
    "from sklearn.metrics import confusion_matrix\n",
    "from sklearn.metrics import classification_report\n",
    "from sklearn.metrics import r2_score\n",
    "from sklearn.model_selection import ShuffleSplit\n",
    "\n",
    "import pandas as pd\n",
    "pd.set_option('display.max_columns', None)\n",
    "\n",
    "# Set the randomizer seed so results are the same each time.\n",
    "np.random.seed(0)"
   ]
  },
  {
   "cell_type": "markdown",
   "metadata": {},
   "source": [
    "## <font color=red>  Updated naming</font>\n",
    "\n"
   ]
  },
  {
   "cell_type": "code",
   "execution_count": 10,
   "metadata": {},
   "outputs": [],
   "source": [
    "### Name \n",
    "\n",
    "# Chloe for EDA part (Pandas format)\n",
    "\n",
    "train_raw_df = pd.read_csv(\"./forest-cover-type-prediction/train.csv\")\n",
    "train_df = train_raw_df.loc[:,\"Elevation\":] #remove ID column from df\n",
    "\n",
    "# Erik for data analysis (NumPy format)\n",
    "\n",
    "with open('forest-cover-type-prediction/train.csv', 'rt') as f:\n",
    "    reader = csv.reader(f)\n",
    "    header = next(reader)\n",
    "    \n",
    "my_data = np.genfromtxt('forest-cover-type-prediction/train.csv', delimiter=',')\n",
    "\n",
    "# shuffle the training data\n",
    "np.random.seed(0)\n",
    "\n",
    "data = my_data[1:, 1:my_data.shape[1]-1]  # avoid getting headers and ID column\n",
    "labels = my_data[1:,-1]\n",
    "\n",
    "shuffle = np.random.permutation(np.arange(data.shape[0]))\n",
    "\n",
    "shuffled_data = data[shuffle]\n",
    "shuffled_labels = labels[shuffle]\n",
    "shuffled_labels = shuffled_labels - 1\n",
    "\n",
    "# split the data to 60% train, 20% dev and 20% test\n",
    "num_train = int(shuffled_data.shape[0]*0.6)\n",
    "num_dev = int(shuffled_data.shape[0]*0.8)\n",
    "\n",
    "train_data, train_labels = shuffled_data[:num_train], shuffled_labels[:num_train]\n",
    "dev_data, dev_labels = shuffled_data[num_train:num_dev], shuffled_labels[num_train:num_dev]\n",
    "test_data, test_labels = shuffled_data[num_dev:], shuffled_labels[num_dev:]\n"
   ]
  },
  {
   "cell_type": "code",
   "execution_count": 11,
   "metadata": {},
   "outputs": [],
   "source": [
    "# Chloe\n",
    "\n",
    "# loading datasets\n",
    "test_df = pd.read_csv(\"./forest-cover-type-prediction/test.csv\")\n"
   ]
  },
  {
   "cell_type": "code",
   "execution_count": null,
   "metadata": {},
   "outputs": [],
   "source": [
    "# Erik \n",
    "\n",
    "with open('forest-cover-type-prediction/train.csv', 'rt') as f:\n",
    "    reader = csv.reader(f)\n",
    "    header = next(reader)\n",
    "    \n",
    "my_data = np.genfromtxt('forest-cover-type-prediction/train.csv', delimiter=',')\n",
    "\n",
    "# shuffle the training data\n",
    "np.random.seed(0)\n",
    "\n",
    "data = my_data[1:, 1:my_data.shape[1]-1]  # avoid getting headers and ID column\n",
    "labels = my_data[1:,-1]\n",
    "\n",
    "shuffle = np.random.permutation(np.arange(data.shape[0]))\n",
    "\n",
    "shuffled_data = data[shuffle]\n",
    "shuffled_labels = labels[shuffle]\n",
    "shuffled_labels = shuffled_labels - 1\n",
    "\n",
    "# split the data to 60% train, 20% dev and 20% test\n",
    "num_train = int(shuffled_data.shape[0]*0.6)\n",
    "num_dev = int(shuffled_data.shape[0]*0.8)\n",
    "\n",
    "train_data, train_labels = shuffled_data[:num_train], shuffled_labels[:num_train]\n",
    "dev_data, dev_labels = shuffled_data[num_train:num_dev], shuffled_labels[num_train:num_dev]\n",
    "test_data, test_labels = shuffled_data[num_dev:], shuffled_labels[num_dev:]"
   ]
  },
  {
   "cell_type": "code",
   "execution_count": null,
   "metadata": {},
   "outputs": [],
   "source": [
    "# Adam\n",
    "\n",
    "#Import Data\n",
    "train_df = pd.read_csv('train.csv')\n",
    "test_df = pd.read_csv('test.csv')\n",
    "\n",
    "print('train_df size =', len(train_df))\n",
    "print('test_df size =', len(test_df))\n",
    "# print(train_df.columns)\n",
    "\n",
    "# Convert pd dataframe to np array\n",
    "# Split train_df into training data and dev data\n",
    "\n",
    "def data_to_np(train=train_df):\n",
    "    '''Takes name of train_df name as argument in order to return data according to desired feature engineering. \n",
    "    Default is no feature engineering.'''\n",
    "    forest_data = train.loc[:,train.columns != 'Cover_Type'].values\n",
    "    forest_target = train[['Cover_Type']].values.flatten()\n",
    "    X_train, X_dev, y_train, y_dev = train_test_split(forest_data, forest_target, test_size=0.3, random_state=0)\n",
    "    return X_train, X_dev, y_train, y_dev"
   ]
  },
  {
   "cell_type": "code",
   "execution_count": null,
   "metadata": {},
   "outputs": [],
   "source": [
    "# Curtis\n",
    "\n",
    "#Read training dataset CSV file from local\n",
    "with open('train.csv') as train:\n",
    "    train_data = pd.read_csv(train, delimiter=',')\n",
    "train.close()\n",
    "\n",
    "#Read testing dataset CSV file from local\n",
    "with open('test.csv') as test:\n",
    "    test_data = pd.read_csv(test, delimiter=',')\n",
    "test.close()\n",
    "\n",
    "#Read sampleSubmission dataset CSV file from local\n",
    "with open('sampleSubmission.csv') as sampleSubmission:\n",
    "    sampleSubmission_data = pd.read_csv(sampleSubmission, delimiter=',')\n",
    "sampleSubmission.close()\n",
    "\n",
    "# set random seed\n",
    "np.random.seed(0)\n",
    "\n",
    "# split test data in dev data and test data \n",
    "train_data_s, dev_data_s = train_test_split(train_data, test_size = 0.3)\n",
    "\n",
    "train_labels = train_data_s.loc[:,['Id', 'Cover_Type']]\n",
    "train_data_sc= train_data_s.iloc[:, 0:55]\n",
    "train_data_noID = train_data_sc.iloc[:,1:55]\n",
    "train_data_cont = train_data_sc.iloc[:,1:11]\n",
    "train_data_disc = train_data_sc.iloc[:,11:55]\n",
    "train_cover_types = train_labels.loc[:,'Cover_Type']\n",
    "\n",
    "dev_labels = dev_data_s.loc[:,['Id', 'Cover_Type']]\n",
    "dev_data_sc= dev_data_s.iloc[:, 0:55]\n",
    "dev_data_noID = dev_data_sc.iloc[:,1:55]\n",
    "dev_data_cont = dev_data_sc.iloc[:,1:11]\n",
    "dev_data_disc = dev_data_sc.iloc[:,11:55]\n",
    "dev_cover_types = dev_labels.loc[:,'Cover_Type']"
   ]
  },
  {
   "cell_type": "markdown",
   "metadata": {},
   "source": [
    "====================================================================================================================="
   ]
  },
  {
   "cell_type": "markdown",
   "metadata": {},
   "source": [
    "## 3. Sanity check and EDA"
   ]
  },
  {
   "cell_type": "markdown",
   "metadata": {},
   "source": [
    "### *Chloe*"
   ]
  },
  {
   "cell_type": "code",
   "execution_count": 12,
   "metadata": {},
   "outputs": [
    {
     "data": {
      "text/html": [
       "<div>\n",
       "<style scoped>\n",
       "    .dataframe tbody tr th:only-of-type {\n",
       "        vertical-align: middle;\n",
       "    }\n",
       "\n",
       "    .dataframe tbody tr th {\n",
       "        vertical-align: top;\n",
       "    }\n",
       "\n",
       "    .dataframe thead th {\n",
       "        text-align: right;\n",
       "    }\n",
       "</style>\n",
       "<table border=\"1\" class=\"dataframe\">\n",
       "  <thead>\n",
       "    <tr style=\"text-align: right;\">\n",
       "      <th></th>\n",
       "      <th>Elevation</th>\n",
       "      <th>Aspect</th>\n",
       "      <th>Slope</th>\n",
       "      <th>Horizontal_Distance_To_Hydrology</th>\n",
       "      <th>Vertical_Distance_To_Hydrology</th>\n",
       "      <th>Horizontal_Distance_To_Roadways</th>\n",
       "      <th>Hillshade_9am</th>\n",
       "      <th>Hillshade_Noon</th>\n",
       "      <th>Hillshade_3pm</th>\n",
       "      <th>Horizontal_Distance_To_Fire_Points</th>\n",
       "      <th>Wilderness_Area1</th>\n",
       "      <th>Wilderness_Area2</th>\n",
       "      <th>Wilderness_Area3</th>\n",
       "      <th>Wilderness_Area4</th>\n",
       "      <th>Soil_Type1</th>\n",
       "      <th>Soil_Type2</th>\n",
       "      <th>Soil_Type3</th>\n",
       "      <th>Soil_Type4</th>\n",
       "      <th>Soil_Type5</th>\n",
       "      <th>Soil_Type6</th>\n",
       "      <th>Soil_Type7</th>\n",
       "      <th>Soil_Type8</th>\n",
       "      <th>Soil_Type9</th>\n",
       "      <th>Soil_Type10</th>\n",
       "      <th>Soil_Type11</th>\n",
       "      <th>Soil_Type12</th>\n",
       "      <th>Soil_Type13</th>\n",
       "      <th>Soil_Type14</th>\n",
       "      <th>Soil_Type15</th>\n",
       "      <th>Soil_Type16</th>\n",
       "      <th>Soil_Type17</th>\n",
       "      <th>Soil_Type18</th>\n",
       "      <th>Soil_Type19</th>\n",
       "      <th>Soil_Type20</th>\n",
       "      <th>Soil_Type21</th>\n",
       "      <th>Soil_Type22</th>\n",
       "      <th>Soil_Type23</th>\n",
       "      <th>Soil_Type24</th>\n",
       "      <th>Soil_Type25</th>\n",
       "      <th>Soil_Type26</th>\n",
       "      <th>Soil_Type27</th>\n",
       "      <th>Soil_Type28</th>\n",
       "      <th>Soil_Type29</th>\n",
       "      <th>Soil_Type30</th>\n",
       "      <th>Soil_Type31</th>\n",
       "      <th>Soil_Type32</th>\n",
       "      <th>Soil_Type33</th>\n",
       "      <th>Soil_Type34</th>\n",
       "      <th>Soil_Type35</th>\n",
       "      <th>Soil_Type36</th>\n",
       "      <th>Soil_Type37</th>\n",
       "      <th>Soil_Type38</th>\n",
       "      <th>Soil_Type39</th>\n",
       "      <th>Soil_Type40</th>\n",
       "      <th>Cover_Type</th>\n",
       "    </tr>\n",
       "  </thead>\n",
       "  <tbody>\n",
       "    <tr>\n",
       "      <th>0</th>\n",
       "      <td>2596</td>\n",
       "      <td>51</td>\n",
       "      <td>3</td>\n",
       "      <td>258</td>\n",
       "      <td>0</td>\n",
       "      <td>510</td>\n",
       "      <td>221</td>\n",
       "      <td>232</td>\n",
       "      <td>148</td>\n",
       "      <td>6279</td>\n",
       "      <td>1</td>\n",
       "      <td>0</td>\n",
       "      <td>0</td>\n",
       "      <td>0</td>\n",
       "      <td>0</td>\n",
       "      <td>0</td>\n",
       "      <td>0</td>\n",
       "      <td>0</td>\n",
       "      <td>0</td>\n",
       "      <td>0</td>\n",
       "      <td>0</td>\n",
       "      <td>0</td>\n",
       "      <td>0</td>\n",
       "      <td>0</td>\n",
       "      <td>0</td>\n",
       "      <td>0</td>\n",
       "      <td>0</td>\n",
       "      <td>0</td>\n",
       "      <td>0</td>\n",
       "      <td>0</td>\n",
       "      <td>0</td>\n",
       "      <td>0</td>\n",
       "      <td>0</td>\n",
       "      <td>0</td>\n",
       "      <td>0</td>\n",
       "      <td>0</td>\n",
       "      <td>0</td>\n",
       "      <td>0</td>\n",
       "      <td>0</td>\n",
       "      <td>0</td>\n",
       "      <td>0</td>\n",
       "      <td>0</td>\n",
       "      <td>1</td>\n",
       "      <td>0</td>\n",
       "      <td>0</td>\n",
       "      <td>0</td>\n",
       "      <td>0</td>\n",
       "      <td>0</td>\n",
       "      <td>0</td>\n",
       "      <td>0</td>\n",
       "      <td>0</td>\n",
       "      <td>0</td>\n",
       "      <td>0</td>\n",
       "      <td>0</td>\n",
       "      <td>5</td>\n",
       "    </tr>\n",
       "    <tr>\n",
       "      <th>1</th>\n",
       "      <td>2590</td>\n",
       "      <td>56</td>\n",
       "      <td>2</td>\n",
       "      <td>212</td>\n",
       "      <td>-6</td>\n",
       "      <td>390</td>\n",
       "      <td>220</td>\n",
       "      <td>235</td>\n",
       "      <td>151</td>\n",
       "      <td>6225</td>\n",
       "      <td>1</td>\n",
       "      <td>0</td>\n",
       "      <td>0</td>\n",
       "      <td>0</td>\n",
       "      <td>0</td>\n",
       "      <td>0</td>\n",
       "      <td>0</td>\n",
       "      <td>0</td>\n",
       "      <td>0</td>\n",
       "      <td>0</td>\n",
       "      <td>0</td>\n",
       "      <td>0</td>\n",
       "      <td>0</td>\n",
       "      <td>0</td>\n",
       "      <td>0</td>\n",
       "      <td>0</td>\n",
       "      <td>0</td>\n",
       "      <td>0</td>\n",
       "      <td>0</td>\n",
       "      <td>0</td>\n",
       "      <td>0</td>\n",
       "      <td>0</td>\n",
       "      <td>0</td>\n",
       "      <td>0</td>\n",
       "      <td>0</td>\n",
       "      <td>0</td>\n",
       "      <td>0</td>\n",
       "      <td>0</td>\n",
       "      <td>0</td>\n",
       "      <td>0</td>\n",
       "      <td>0</td>\n",
       "      <td>0</td>\n",
       "      <td>1</td>\n",
       "      <td>0</td>\n",
       "      <td>0</td>\n",
       "      <td>0</td>\n",
       "      <td>0</td>\n",
       "      <td>0</td>\n",
       "      <td>0</td>\n",
       "      <td>0</td>\n",
       "      <td>0</td>\n",
       "      <td>0</td>\n",
       "      <td>0</td>\n",
       "      <td>0</td>\n",
       "      <td>5</td>\n",
       "    </tr>\n",
       "    <tr>\n",
       "      <th>2</th>\n",
       "      <td>2804</td>\n",
       "      <td>139</td>\n",
       "      <td>9</td>\n",
       "      <td>268</td>\n",
       "      <td>65</td>\n",
       "      <td>3180</td>\n",
       "      <td>234</td>\n",
       "      <td>238</td>\n",
       "      <td>135</td>\n",
       "      <td>6121</td>\n",
       "      <td>1</td>\n",
       "      <td>0</td>\n",
       "      <td>0</td>\n",
       "      <td>0</td>\n",
       "      <td>0</td>\n",
       "      <td>0</td>\n",
       "      <td>0</td>\n",
       "      <td>0</td>\n",
       "      <td>0</td>\n",
       "      <td>0</td>\n",
       "      <td>0</td>\n",
       "      <td>0</td>\n",
       "      <td>0</td>\n",
       "      <td>0</td>\n",
       "      <td>0</td>\n",
       "      <td>1</td>\n",
       "      <td>0</td>\n",
       "      <td>0</td>\n",
       "      <td>0</td>\n",
       "      <td>0</td>\n",
       "      <td>0</td>\n",
       "      <td>0</td>\n",
       "      <td>0</td>\n",
       "      <td>0</td>\n",
       "      <td>0</td>\n",
       "      <td>0</td>\n",
       "      <td>0</td>\n",
       "      <td>0</td>\n",
       "      <td>0</td>\n",
       "      <td>0</td>\n",
       "      <td>0</td>\n",
       "      <td>0</td>\n",
       "      <td>0</td>\n",
       "      <td>0</td>\n",
       "      <td>0</td>\n",
       "      <td>0</td>\n",
       "      <td>0</td>\n",
       "      <td>0</td>\n",
       "      <td>0</td>\n",
       "      <td>0</td>\n",
       "      <td>0</td>\n",
       "      <td>0</td>\n",
       "      <td>0</td>\n",
       "      <td>0</td>\n",
       "      <td>2</td>\n",
       "    </tr>\n",
       "    <tr>\n",
       "      <th>3</th>\n",
       "      <td>2785</td>\n",
       "      <td>155</td>\n",
       "      <td>18</td>\n",
       "      <td>242</td>\n",
       "      <td>118</td>\n",
       "      <td>3090</td>\n",
       "      <td>238</td>\n",
       "      <td>238</td>\n",
       "      <td>122</td>\n",
       "      <td>6211</td>\n",
       "      <td>1</td>\n",
       "      <td>0</td>\n",
       "      <td>0</td>\n",
       "      <td>0</td>\n",
       "      <td>0</td>\n",
       "      <td>0</td>\n",
       "      <td>0</td>\n",
       "      <td>0</td>\n",
       "      <td>0</td>\n",
       "      <td>0</td>\n",
       "      <td>0</td>\n",
       "      <td>0</td>\n",
       "      <td>0</td>\n",
       "      <td>0</td>\n",
       "      <td>0</td>\n",
       "      <td>0</td>\n",
       "      <td>0</td>\n",
       "      <td>0</td>\n",
       "      <td>0</td>\n",
       "      <td>0</td>\n",
       "      <td>0</td>\n",
       "      <td>0</td>\n",
       "      <td>0</td>\n",
       "      <td>0</td>\n",
       "      <td>0</td>\n",
       "      <td>0</td>\n",
       "      <td>0</td>\n",
       "      <td>0</td>\n",
       "      <td>0</td>\n",
       "      <td>0</td>\n",
       "      <td>0</td>\n",
       "      <td>0</td>\n",
       "      <td>0</td>\n",
       "      <td>1</td>\n",
       "      <td>0</td>\n",
       "      <td>0</td>\n",
       "      <td>0</td>\n",
       "      <td>0</td>\n",
       "      <td>0</td>\n",
       "      <td>0</td>\n",
       "      <td>0</td>\n",
       "      <td>0</td>\n",
       "      <td>0</td>\n",
       "      <td>0</td>\n",
       "      <td>2</td>\n",
       "    </tr>\n",
       "    <tr>\n",
       "      <th>4</th>\n",
       "      <td>2595</td>\n",
       "      <td>45</td>\n",
       "      <td>2</td>\n",
       "      <td>153</td>\n",
       "      <td>-1</td>\n",
       "      <td>391</td>\n",
       "      <td>220</td>\n",
       "      <td>234</td>\n",
       "      <td>150</td>\n",
       "      <td>6172</td>\n",
       "      <td>1</td>\n",
       "      <td>0</td>\n",
       "      <td>0</td>\n",
       "      <td>0</td>\n",
       "      <td>0</td>\n",
       "      <td>0</td>\n",
       "      <td>0</td>\n",
       "      <td>0</td>\n",
       "      <td>0</td>\n",
       "      <td>0</td>\n",
       "      <td>0</td>\n",
       "      <td>0</td>\n",
       "      <td>0</td>\n",
       "      <td>0</td>\n",
       "      <td>0</td>\n",
       "      <td>0</td>\n",
       "      <td>0</td>\n",
       "      <td>0</td>\n",
       "      <td>0</td>\n",
       "      <td>0</td>\n",
       "      <td>0</td>\n",
       "      <td>0</td>\n",
       "      <td>0</td>\n",
       "      <td>0</td>\n",
       "      <td>0</td>\n",
       "      <td>0</td>\n",
       "      <td>0</td>\n",
       "      <td>0</td>\n",
       "      <td>0</td>\n",
       "      <td>0</td>\n",
       "      <td>0</td>\n",
       "      <td>0</td>\n",
       "      <td>1</td>\n",
       "      <td>0</td>\n",
       "      <td>0</td>\n",
       "      <td>0</td>\n",
       "      <td>0</td>\n",
       "      <td>0</td>\n",
       "      <td>0</td>\n",
       "      <td>0</td>\n",
       "      <td>0</td>\n",
       "      <td>0</td>\n",
       "      <td>0</td>\n",
       "      <td>0</td>\n",
       "      <td>5</td>\n",
       "    </tr>\n",
       "  </tbody>\n",
       "</table>\n",
       "</div>"
      ],
      "text/plain": [
       "   Elevation  Aspect  Slope  Horizontal_Distance_To_Hydrology  \\\n",
       "0       2596      51      3                               258   \n",
       "1       2590      56      2                               212   \n",
       "2       2804     139      9                               268   \n",
       "3       2785     155     18                               242   \n",
       "4       2595      45      2                               153   \n",
       "\n",
       "   Vertical_Distance_To_Hydrology  Horizontal_Distance_To_Roadways  \\\n",
       "0                               0                              510   \n",
       "1                              -6                              390   \n",
       "2                              65                             3180   \n",
       "3                             118                             3090   \n",
       "4                              -1                              391   \n",
       "\n",
       "   Hillshade_9am  Hillshade_Noon  Hillshade_3pm  \\\n",
       "0            221             232            148   \n",
       "1            220             235            151   \n",
       "2            234             238            135   \n",
       "3            238             238            122   \n",
       "4            220             234            150   \n",
       "\n",
       "   Horizontal_Distance_To_Fire_Points  Wilderness_Area1  Wilderness_Area2  \\\n",
       "0                                6279                 1                 0   \n",
       "1                                6225                 1                 0   \n",
       "2                                6121                 1                 0   \n",
       "3                                6211                 1                 0   \n",
       "4                                6172                 1                 0   \n",
       "\n",
       "   Wilderness_Area3  Wilderness_Area4  Soil_Type1  Soil_Type2  Soil_Type3  \\\n",
       "0                 0                 0           0           0           0   \n",
       "1                 0                 0           0           0           0   \n",
       "2                 0                 0           0           0           0   \n",
       "3                 0                 0           0           0           0   \n",
       "4                 0                 0           0           0           0   \n",
       "\n",
       "   Soil_Type4  Soil_Type5  Soil_Type6  Soil_Type7  Soil_Type8  Soil_Type9  \\\n",
       "0           0           0           0           0           0           0   \n",
       "1           0           0           0           0           0           0   \n",
       "2           0           0           0           0           0           0   \n",
       "3           0           0           0           0           0           0   \n",
       "4           0           0           0           0           0           0   \n",
       "\n",
       "   Soil_Type10  Soil_Type11  Soil_Type12  Soil_Type13  Soil_Type14  \\\n",
       "0            0            0            0            0            0   \n",
       "1            0            0            0            0            0   \n",
       "2            0            0            1            0            0   \n",
       "3            0            0            0            0            0   \n",
       "4            0            0            0            0            0   \n",
       "\n",
       "   Soil_Type15  Soil_Type16  Soil_Type17  Soil_Type18  Soil_Type19  \\\n",
       "0            0            0            0            0            0   \n",
       "1            0            0            0            0            0   \n",
       "2            0            0            0            0            0   \n",
       "3            0            0            0            0            0   \n",
       "4            0            0            0            0            0   \n",
       "\n",
       "   Soil_Type20  Soil_Type21  Soil_Type22  Soil_Type23  Soil_Type24  \\\n",
       "0            0            0            0            0            0   \n",
       "1            0            0            0            0            0   \n",
       "2            0            0            0            0            0   \n",
       "3            0            0            0            0            0   \n",
       "4            0            0            0            0            0   \n",
       "\n",
       "   Soil_Type25  Soil_Type26  Soil_Type27  Soil_Type28  Soil_Type29  \\\n",
       "0            0            0            0            0            1   \n",
       "1            0            0            0            0            1   \n",
       "2            0            0            0            0            0   \n",
       "3            0            0            0            0            0   \n",
       "4            0            0            0            0            1   \n",
       "\n",
       "   Soil_Type30  Soil_Type31  Soil_Type32  Soil_Type33  Soil_Type34  \\\n",
       "0            0            0            0            0            0   \n",
       "1            0            0            0            0            0   \n",
       "2            0            0            0            0            0   \n",
       "3            1            0            0            0            0   \n",
       "4            0            0            0            0            0   \n",
       "\n",
       "   Soil_Type35  Soil_Type36  Soil_Type37  Soil_Type38  Soil_Type39  \\\n",
       "0            0            0            0            0            0   \n",
       "1            0            0            0            0            0   \n",
       "2            0            0            0            0            0   \n",
       "3            0            0            0            0            0   \n",
       "4            0            0            0            0            0   \n",
       "\n",
       "   Soil_Type40  Cover_Type  \n",
       "0            0           5  \n",
       "1            0           5  \n",
       "2            0           2  \n",
       "3            0           2  \n",
       "4            0           5  "
      ]
     },
     "metadata": {},
     "output_type": "display_data"
    },
    {
     "name": "stdout",
     "output_type": "stream",
     "text": [
      "Training data shape: (15120, 55)\n",
      "Elevation                             int64\n",
      "Aspect                                int64\n",
      "Slope                                 int64\n",
      "Horizontal_Distance_To_Hydrology      int64\n",
      "Vertical_Distance_To_Hydrology        int64\n",
      "Horizontal_Distance_To_Roadways       int64\n",
      "Hillshade_9am                         int64\n",
      "Hillshade_Noon                        int64\n",
      "Hillshade_3pm                         int64\n",
      "Horizontal_Distance_To_Fire_Points    int64\n",
      "Wilderness_Area1                      int64\n",
      "Wilderness_Area2                      int64\n",
      "Wilderness_Area3                      int64\n",
      "Wilderness_Area4                      int64\n",
      "Soil_Type1                            int64\n",
      "Soil_Type2                            int64\n",
      "Soil_Type3                            int64\n",
      "Soil_Type4                            int64\n",
      "Soil_Type5                            int64\n",
      "Soil_Type6                            int64\n",
      "Soil_Type7                            int64\n",
      "Soil_Type8                            int64\n",
      "Soil_Type9                            int64\n",
      "Soil_Type10                           int64\n",
      "Soil_Type11                           int64\n",
      "Soil_Type12                           int64\n",
      "Soil_Type13                           int64\n",
      "Soil_Type14                           int64\n",
      "Soil_Type15                           int64\n",
      "Soil_Type16                           int64\n",
      "Soil_Type17                           int64\n",
      "Soil_Type18                           int64\n",
      "Soil_Type19                           int64\n",
      "Soil_Type20                           int64\n",
      "Soil_Type21                           int64\n",
      "Soil_Type22                           int64\n",
      "Soil_Type23                           int64\n",
      "Soil_Type24                           int64\n",
      "Soil_Type25                           int64\n",
      "Soil_Type26                           int64\n",
      "Soil_Type27                           int64\n",
      "Soil_Type28                           int64\n",
      "Soil_Type29                           int64\n",
      "Soil_Type30                           int64\n",
      "Soil_Type31                           int64\n",
      "Soil_Type32                           int64\n",
      "Soil_Type33                           int64\n",
      "Soil_Type34                           int64\n",
      "Soil_Type35                           int64\n",
      "Soil_Type36                           int64\n",
      "Soil_Type37                           int64\n",
      "Soil_Type38                           int64\n",
      "Soil_Type39                           int64\n",
      "Soil_Type40                           int64\n",
      "Cover_Type                            int64\n",
      "dtype: object\n"
     ]
    }
   ],
   "source": [
    "# Conduct quick sanity check imported data\n",
    "# Sample submission is just sample file for submission instructions, can ignore\n",
    "# Test_df is used for predictions\n",
    "display(train_df.head())\n",
    "print(\"Training data shape:\",train_df.shape)\n",
    "print(train_df.dtypes)"
   ]
  },
  {
   "cell_type": "code",
   "execution_count": 13,
   "metadata": {},
   "outputs": [
    {
     "name": "stdout",
     "output_type": "stream",
     "text": [
      "Test data shape: (565892, 55)\n",
      "Index(['Id', 'Elevation', 'Aspect', 'Slope',\n",
      "       'Horizontal_Distance_To_Hydrology', 'Vertical_Distance_To_Hydrology',\n",
      "       'Horizontal_Distance_To_Roadways', 'Hillshade_9am', 'Hillshade_Noon',\n",
      "       'Hillshade_3pm', 'Horizontal_Distance_To_Fire_Points',\n",
      "       'Wilderness_Area1', 'Wilderness_Area2', 'Wilderness_Area3',\n",
      "       'Wilderness_Area4', 'Soil_Type1', 'Soil_Type2', 'Soil_Type3',\n",
      "       'Soil_Type4', 'Soil_Type5', 'Soil_Type6', 'Soil_Type7', 'Soil_Type8',\n",
      "       'Soil_Type9', 'Soil_Type10', 'Soil_Type11', 'Soil_Type12',\n",
      "       'Soil_Type13', 'Soil_Type14', 'Soil_Type15', 'Soil_Type16',\n",
      "       'Soil_Type17', 'Soil_Type18', 'Soil_Type19', 'Soil_Type20',\n",
      "       'Soil_Type21', 'Soil_Type22', 'Soil_Type23', 'Soil_Type24',\n",
      "       'Soil_Type25', 'Soil_Type26', 'Soil_Type27', 'Soil_Type28',\n",
      "       'Soil_Type29', 'Soil_Type30', 'Soil_Type31', 'Soil_Type32',\n",
      "       'Soil_Type33', 'Soil_Type34', 'Soil_Type35', 'Soil_Type36',\n",
      "       'Soil_Type37', 'Soil_Type38', 'Soil_Type39', 'Soil_Type40'],\n",
      "      dtype='object')\n"
     ]
    }
   ],
   "source": [
    "print(\"Test data shape:\",test_df.shape)\n",
    "print(test_df.columns)"
   ]
  },
  {
   "cell_type": "markdown",
   "metadata": {},
   "source": [
    "> Test_df from test.csv does not have cover_type column. It is intended for prediction only. As such, we will need to subset train_df to train and dev datasets for our modeling process. "
   ]
  },
  {
   "cell_type": "code",
   "execution_count": 14,
   "metadata": {
    "scrolled": false
   },
   "outputs": [
    {
     "name": "stdout",
     "output_type": "stream",
     "text": [
      "          Elevation        Aspect         Slope  \\\n",
      "count  15120.000000  15120.000000  15120.000000   \n",
      "mean    2749.322553    156.676653     16.501587   \n",
      "std      417.678187    110.085801      8.453927   \n",
      "min     1863.000000      0.000000      0.000000   \n",
      "25%     2376.000000     65.000000     10.000000   \n",
      "50%     2752.000000    126.000000     15.000000   \n",
      "75%     3104.000000    261.000000     22.000000   \n",
      "max     3849.000000    360.000000     52.000000   \n",
      "\n",
      "       Horizontal_Distance_To_Hydrology  Vertical_Distance_To_Hydrology  \\\n",
      "count                      15120.000000                    15120.000000   \n",
      "mean                         227.195701                       51.076521   \n",
      "std                          210.075296                       61.239406   \n",
      "min                            0.000000                     -146.000000   \n",
      "25%                           67.000000                        5.000000   \n",
      "50%                          180.000000                       32.000000   \n",
      "75%                          330.000000                       79.000000   \n",
      "max                         1343.000000                      554.000000   \n",
      "\n",
      "       Horizontal_Distance_To_Roadways  Hillshade_9am  Hillshade_Noon  \\\n",
      "count                     15120.000000   15120.000000    15120.000000   \n",
      "mean                       1714.023214     212.704299      218.965608   \n",
      "std                        1325.066358      30.561287       22.801966   \n",
      "min                           0.000000       0.000000       99.000000   \n",
      "25%                         764.000000     196.000000      207.000000   \n",
      "50%                        1316.000000     220.000000      223.000000   \n",
      "75%                        2270.000000     235.000000      235.000000   \n",
      "max                        6890.000000     254.000000      254.000000   \n",
      "\n",
      "       Hillshade_3pm  Horizontal_Distance_To_Fire_Points  Wilderness_Area1  \\\n",
      "count   15120.000000                        15120.000000      15120.000000   \n",
      "mean      135.091997                         1511.147288          0.237897   \n",
      "std        45.895189                         1099.936493          0.425810   \n",
      "min         0.000000                            0.000000          0.000000   \n",
      "25%       106.000000                          730.000000          0.000000   \n",
      "50%       138.000000                         1256.000000          0.000000   \n",
      "75%       167.000000                         1988.250000          0.000000   \n",
      "max       248.000000                         6993.000000          1.000000   \n",
      "\n",
      "       Wilderness_Area2  Wilderness_Area3  Wilderness_Area4    Soil_Type1  \\\n",
      "count      15120.000000      15120.000000      15120.000000  15120.000000   \n",
      "mean           0.033003          0.419907          0.309193      0.023479   \n",
      "std            0.178649          0.493560          0.462176      0.151424   \n",
      "min            0.000000          0.000000          0.000000      0.000000   \n",
      "25%            0.000000          0.000000          0.000000      0.000000   \n",
      "50%            0.000000          0.000000          0.000000      0.000000   \n",
      "75%            0.000000          1.000000          1.000000      0.000000   \n",
      "max            1.000000          1.000000          1.000000      1.000000   \n",
      "\n",
      "         Soil_Type2    Soil_Type3    Soil_Type4    Soil_Type5    Soil_Type6  \\\n",
      "count  15120.000000  15120.000000  15120.000000  15120.000000  15120.000000   \n",
      "mean       0.041204      0.063624      0.055754      0.010913      0.042989   \n",
      "std        0.198768      0.244091      0.229454      0.103896      0.202840   \n",
      "min        0.000000      0.000000      0.000000      0.000000      0.000000   \n",
      "25%        0.000000      0.000000      0.000000      0.000000      0.000000   \n",
      "50%        0.000000      0.000000      0.000000      0.000000      0.000000   \n",
      "75%        0.000000      0.000000      0.000000      0.000000      0.000000   \n",
      "max        1.000000      1.000000      1.000000      1.000000      1.000000   \n",
      "\n",
      "       Soil_Type7    Soil_Type8    Soil_Type9   Soil_Type10   Soil_Type11  \\\n",
      "count     15120.0  15120.000000  15120.000000  15120.000000  15120.000000   \n",
      "mean          0.0      0.000066      0.000661      0.141667      0.026852   \n",
      "std           0.0      0.008133      0.025710      0.348719      0.161656   \n",
      "min           0.0      0.000000      0.000000      0.000000      0.000000   \n",
      "25%           0.0      0.000000      0.000000      0.000000      0.000000   \n",
      "50%           0.0      0.000000      0.000000      0.000000      0.000000   \n",
      "75%           0.0      0.000000      0.000000      0.000000      0.000000   \n",
      "max           0.0      1.000000      1.000000      1.000000      1.000000   \n",
      "\n",
      "        Soil_Type12   Soil_Type13   Soil_Type14  Soil_Type15   Soil_Type16  \\\n",
      "count  15120.000000  15120.000000  15120.000000      15120.0  15120.000000   \n",
      "mean       0.015013      0.031481      0.011177          0.0      0.007540   \n",
      "std        0.121609      0.174621      0.105133          0.0      0.086506   \n",
      "min        0.000000      0.000000      0.000000          0.0      0.000000   \n",
      "25%        0.000000      0.000000      0.000000          0.0      0.000000   \n",
      "50%        0.000000      0.000000      0.000000          0.0      0.000000   \n",
      "75%        0.000000      0.000000      0.000000          0.0      0.000000   \n",
      "max        1.000000      1.000000      1.000000          0.0      1.000000   \n",
      "\n",
      "        Soil_Type17   Soil_Type18   Soil_Type19   Soil_Type20   Soil_Type21  \\\n",
      "count  15120.000000  15120.000000  15120.000000  15120.000000  15120.000000   \n",
      "mean       0.040476      0.003968      0.003042      0.009193      0.001058   \n",
      "std        0.197080      0.062871      0.055075      0.095442      0.032514   \n",
      "min        0.000000      0.000000      0.000000      0.000000      0.000000   \n",
      "25%        0.000000      0.000000      0.000000      0.000000      0.000000   \n",
      "50%        0.000000      0.000000      0.000000      0.000000      0.000000   \n",
      "75%        0.000000      0.000000      0.000000      0.000000      0.000000   \n",
      "max        1.000000      1.000000      1.000000      1.000000      1.000000   \n",
      "\n",
      "        Soil_Type22   Soil_Type23   Soil_Type24   Soil_Type25   Soil_Type26  \\\n",
      "count  15120.000000  15120.000000  15120.000000  15120.000000  15120.000000   \n",
      "mean       0.022817      0.050066      0.016997      0.000066      0.003571   \n",
      "std        0.149326      0.218089      0.129265      0.008133      0.059657   \n",
      "min        0.000000      0.000000      0.000000      0.000000      0.000000   \n",
      "25%        0.000000      0.000000      0.000000      0.000000      0.000000   \n",
      "50%        0.000000      0.000000      0.000000      0.000000      0.000000   \n",
      "75%        0.000000      0.000000      0.000000      0.000000      0.000000   \n",
      "max        1.000000      1.000000      1.000000      1.000000      1.000000   \n",
      "\n",
      "        Soil_Type27   Soil_Type28   Soil_Type29   Soil_Type30   Soil_Type31  \\\n",
      "count  15120.000000  15120.000000  15120.000000  15120.000000  15120.000000   \n",
      "mean       0.000992      0.000595      0.085384      0.047950      0.021958   \n",
      "std        0.031482      0.024391      0.279461      0.213667      0.146550   \n",
      "min        0.000000      0.000000      0.000000      0.000000      0.000000   \n",
      "25%        0.000000      0.000000      0.000000      0.000000      0.000000   \n",
      "50%        0.000000      0.000000      0.000000      0.000000      0.000000   \n",
      "75%        0.000000      0.000000      0.000000      0.000000      0.000000   \n",
      "max        1.000000      1.000000      1.000000      1.000000      1.000000   \n",
      "\n",
      "        Soil_Type32   Soil_Type33   Soil_Type34   Soil_Type35   Soil_Type36  \\\n",
      "count  15120.000000  15120.000000  15120.000000  15120.000000  15120.000000   \n",
      "mean       0.045635      0.040741      0.001455      0.006746      0.000661   \n",
      "std        0.208699      0.197696      0.038118      0.081859      0.025710   \n",
      "min        0.000000      0.000000      0.000000      0.000000      0.000000   \n",
      "25%        0.000000      0.000000      0.000000      0.000000      0.000000   \n",
      "50%        0.000000      0.000000      0.000000      0.000000      0.000000   \n",
      "75%        0.000000      0.000000      0.000000      0.000000      0.000000   \n",
      "max        1.000000      1.000000      1.000000      1.000000      1.000000   \n",
      "\n",
      "        Soil_Type37   Soil_Type38   Soil_Type39   Soil_Type40    Cover_Type  \n",
      "count  15120.000000  15120.000000  15120.000000  15120.000000  15120.000000  \n",
      "mean       0.002249      0.048148      0.043452      0.030357      4.000000  \n",
      "std        0.047368      0.214086      0.203880      0.171574      2.000066  \n",
      "min        0.000000      0.000000      0.000000      0.000000      1.000000  \n",
      "25%        0.000000      0.000000      0.000000      0.000000      2.000000  \n",
      "50%        0.000000      0.000000      0.000000      0.000000      4.000000  \n",
      "75%        0.000000      0.000000      0.000000      0.000000      6.000000  \n",
      "max        1.000000      1.000000      1.000000      1.000000      7.000000  \n"
     ]
    }
   ],
   "source": [
    "print(train_df.describe())"
   ]
  },
  {
   "cell_type": "code",
   "execution_count": 15,
   "metadata": {},
   "outputs": [
    {
     "name": "stdout",
     "output_type": "stream",
     "text": [
      "Cover_Type\n",
      "1    2160\n",
      "2    2160\n",
      "3    2160\n",
      "4    2160\n",
      "5    2160\n",
      "6    2160\n",
      "7    2160\n",
      "dtype: int64\n"
     ]
    }
   ],
   "source": [
    "# Count the number of instances of each class\n",
    "print(train_df.groupby('Cover_Type').size())"
   ]
  },
  {
   "cell_type": "markdown",
   "metadata": {},
   "source": [
    "> The cover types are equally divided into 7 categories in our training csv. So there is no skewness in our dataset. "
   ]
  },
  {
   "cell_type": "code",
   "execution_count": 16,
   "metadata": {},
   "outputs": [
    {
     "data": {
      "text/plain": [
       "<matplotlib.axes._subplots.AxesSubplot at 0x1a1cd175c0>"
      ]
     },
     "execution_count": 16,
     "metadata": {},
     "output_type": "execute_result"
    },
    {
     "data": {
      "image/png": "[encoded data removed]",
      "text/plain": [
       "<Figure size 1152x1008 with 2 Axes>"
      ]
     },
     "metadata": {
      "needs_background": "light"
     },
     "output_type": "display_data"
    }
   ],
   "source": [
    "# Plot correlation heatmap to find highly correlated variables /features\n",
    "corr = train_df.corr()\n",
    "\n",
    "f, ax = plt.subplots(figsize=(16, 14))\n",
    "sns.heatmap(corr, mask=np.zeros_like(corr, dtype=np.bool), cmap=sns.diverging_palette(220, 10, as_cmap=True),\n",
    "            square=True, ax=ax)"
   ]
  },
  {
   "cell_type": "markdown",
   "metadata": {},
   "source": [
    "> From above heat map, the following variables are considered relatively high correlated with cover type:\n",
    "- Horizontal_Distance_To_Roadways\n",
    "- Horizontal_Distance_To_Fire_Points\n",
    "- Hillshade_Noon\n",
    "- Wilderness_Area1\n",
    "- Soil_Type12, Soil_Type22, Soil_Type23, Soil_Type29, Soil_Type32, Soil_Type38, Soil_Type39, Soil_Type40"
   ]
  },
  {
   "cell_type": "code",
   "execution_count": 17,
   "metadata": {},
   "outputs": [
    {
     "data": {
      "text/plain": [
       "<seaborn.axisgrid.PairGrid at 0x1a1a632828>"
      ]
     },
     "execution_count": 17,
     "metadata": {},
     "output_type": "execute_result"
    },
    {
     "data": {
      "image/png": "[encoded data removed]",
      "text/plain": [
       "<Figure size 786.234x720 with 20 Axes>"
      ]
     },
     "metadata": {
      "needs_background": "light"
     },
     "output_type": "display_data"
    }
   ],
   "source": [
    "# Variables that are relatively high correlated with cover type are selected here\n",
    "sns.pairplot(train_df, hue='Cover_Type', vars=[\"Horizontal_Distance_To_Roadways\",\n",
    "                                               \"Horizontal_Distance_To_Fire_Points\", \n",
    "                                               \"Hillshade_Noon\",\"Wilderness_Area1\"])"
   ]
  },
  {
   "cell_type": "code",
   "execution_count": 18,
   "metadata": {},
   "outputs": [
    {
     "data": {
      "text/plain": [
       "<seaborn.axisgrid.PairGrid at 0x1a1fa2f470>"
      ]
     },
     "execution_count": 18,
     "metadata": {},
     "output_type": "execute_result"
    },
    {
     "data": {
      "image/png": "[encoded data removed]",
      "text/plain": [
       "<Figure size 1506.23x1440 with 72 Axes>"
      ]
     },
     "metadata": {
      "needs_background": "light"
     },
     "output_type": "display_data"
    }
   ],
   "source": [
    "# Variables that are relatively high correlated with cover type are selected here\n",
    "sns.pairplot(train_df, hue='Cover_Type', vars=[\"Soil_Type12\",\"Soil_Type22\",\n",
    "                                               \"Soil_Type23\",\"Soil_Type29\",\n",
    "                                               \"Soil_Type32\",\"Soil_Type38\",\n",
    "                                               \"Soil_Type39\",\"Soil_Type40\"])"
   ]
  },
  {
   "cell_type": "markdown",
   "metadata": {},
   "source": [
    "### *Erik*"
   ]
  },
  {
   "cell_type": "code",
   "execution_count": null,
   "metadata": {},
   "outputs": [],
   "source": [
    "print(train_data.shape)\n",
    "print(train_labels.shape)"
   ]
  },
  {
   "cell_type": "code",
   "execution_count": null,
   "metadata": {},
   "outputs": [],
   "source": [
    "def generate_cor_graph(data, size=(15,15), title = None):\n",
    "    \n",
    "    corr = data.corr()\n",
    "    fig = plt.figure(figsize = size)\n",
    "    ax = fig.add_subplot(111)\n",
    "    cax = ax.matshow(corr,cmap='coolwarm', vmin=-1, vmax=1)\n",
    "    fig.colorbar(cax)\n",
    "    ticks = np.arange(0,len(data.columns),1)\n",
    "    ax.set_xticks(ticks)\n",
    "    plt.xticks(rotation=90)\n",
    "    ax.set_yticks(ticks)\n",
    "    ax.set_xticklabels(data.columns)\n",
    "    ax.set_yticklabels(data.columns)\n",
    "    plt.tight_layout()\n",
    "    plt.title(title, y=1.2)\n",
    "    plt.show()"
   ]
  },
  {
   "cell_type": "code",
   "execution_count": null,
   "metadata": {},
   "outputs": [],
   "source": [
    "df = pd.read_csv('forest-cover-type-prediction/train.csv')"
   ]
  },
  {
   "cell_type": "code",
   "execution_count": null,
   "metadata": {},
   "outputs": [],
   "source": [
    "generate_cor_graph(df)"
   ]
  },
  {
   "cell_type": "code",
   "execution_count": null,
   "metadata": {},
   "outputs": [],
   "source": [
    "cols = [i for i in range(1,15)]\n",
    "cols = [-1] + cols\n",
    "data_soil_id_exclu = df.iloc[:,cols]\n",
    "generate_cor_graph(data_soil_id_exclu, (10,10))"
   ]
  },
  {
   "cell_type": "code",
   "execution_count": null,
   "metadata": {},
   "outputs": [],
   "source": [
    "data_soil_id_exclu.describe()"
   ]
  },
  {
   "cell_type": "code",
   "execution_count": null,
   "metadata": {},
   "outputs": [],
   "source": [
    "df.iloc[:, 15:].describe()"
   ]
  },
  {
   "cell_type": "code",
   "execution_count": null,
   "metadata": {
    "scrolled": false
   },
   "outputs": [],
   "source": [
    "cover_types = np.sort(df.iloc[:, -1].unique())\n",
    "df_dict = {}\n",
    "\n",
    "for cover_type in cover_types:\n",
    "    df_dict[cover_type] = df.loc[df['Cover_Type'] == cover_type]\n",
    "\n",
    "for cover_type in cover_types:\n",
    "    generate_cor_graph(data = df_dict[cover_type], title = 'Cover Type' + str(cover_type))"
   ]
  },
  {
   "cell_type": "markdown",
   "metadata": {},
   "source": [
    "### *Curtis*"
   ]
  },
  {
   "cell_type": "code",
   "execution_count": null,
   "metadata": {},
   "outputs": [],
   "source": [
    "# Geographic information\n",
    "\n",
    "train_data.iloc[:,0:4].describe() "
   ]
  },
  {
   "cell_type": "code",
   "execution_count": null,
   "metadata": {},
   "outputs": [],
   "source": [
    "fig, ax = plt.subplots(1, 3, figsize=(16, 4))\n",
    "geograpy = ['Elevation', 'Aspect', 'Slope']\n",
    "\n",
    "for i in range(1, 4):\n",
    "    ax[i-1].hist(train_data.iloc[:,i])\n",
    "    ax[i-1].set_title(geograpy[i-1])   "
   ]
  },
  {
   "cell_type": "code",
   "execution_count": null,
   "metadata": {},
   "outputs": [],
   "source": [
    "# Hydrological information\n",
    "\n",
    "train_data.iloc[:,4:6].describe()"
   ]
  },
  {
   "cell_type": "code",
   "execution_count": null,
   "metadata": {},
   "outputs": [],
   "source": [
    "fig, ax = plt.subplots(1, 2, figsize=(16, 4))\n",
    "hydrology = ['Horizontal_Distance_To_Hydrology', 'Vertical_Distance_To_Hydrology']\n",
    "\n",
    "for i in range(2):\n",
    "    ax[i].hist(train_data.iloc[:,i+4])\n",
    "    ax[i].set_title(hydrology[i])"
   ]
  },
  {
   "cell_type": "code",
   "execution_count": null,
   "metadata": {},
   "outputs": [],
   "source": [
    "# Distance to roadways and fire points\n",
    "\n",
    "train_data.loc[:,['Horizontal_Distance_To_Roadways','Horizontal_Distance_To_Fire_Points']].describe()"
   ]
  },
  {
   "cell_type": "code",
   "execution_count": null,
   "metadata": {},
   "outputs": [],
   "source": [
    "fig, ax = plt.subplots(1, 2, figsize=(16, 4))\n",
    "\n",
    "\n",
    "ax[0].hist(train_data.loc[:,'Horizontal_Distance_To_Roadways'])\n",
    "ax[0].set_title('Horizontal_Distance_To_Roadways')\n",
    "ax[1].hist(train_data.loc[:,'Horizontal_Distance_To_Fire_Points'])\n",
    "ax[1].set_title('Horizontal_Distance_To_Fire_Points')"
   ]
  },
  {
   "cell_type": "code",
   "execution_count": null,
   "metadata": {},
   "outputs": [],
   "source": [
    "# Hillshade information (0 to 255 index) \n",
    "\n",
    "train_data.iloc[:,7:10].describe()"
   ]
  },
  {
   "cell_type": "code",
   "execution_count": null,
   "metadata": {},
   "outputs": [],
   "source": [
    "fig, ax = plt.subplots(1, 5, figsize=(16, 4))\n",
    "hillshade = ['Hillshade_9am', 'Hillshade_Noon', 'Hillshade_3pm']\n",
    "\n",
    "for i in range(3):\n",
    "    ax[i].hist(train_data.iloc[:,i+7])\n",
    "    ax[i].set_title(hillshade[i])\n",
    "    \n",
    "ax[3].scatter(train_data.loc[:,'Hillshade_9am'], train_data.loc[:,'Hillshade_Noon'])\n",
    "ax[4].scatter(train_data.loc[:,'Hillshade_9am'], train_data.loc[:,'Hillshade_3pm'])"
   ]
  },
  {
   "cell_type": "code",
   "execution_count": null,
   "metadata": {},
   "outputs": [],
   "source": [
    "# Wilderness area information\n",
    "\n",
    "train_data.iloc[:,11:15].describe()"
   ]
  },
  {
   "cell_type": "code",
   "execution_count": null,
   "metadata": {},
   "outputs": [],
   "source": [
    "fig, ax = plt.subplots(1, 4, figsize=(16, 4))\n",
    "wilderness = ['Rawah', 'Neota', 'Comanche Peak', 'Cache la Poudre']\n",
    "\n",
    "for i in range(4):\n",
    "    ax[i].hist(train_data.iloc[:,i+11])\n",
    "    ax[i].set_title(wilderness[i])"
   ]
  },
  {
   "cell_type": "code",
   "execution_count": null,
   "metadata": {},
   "outputs": [],
   "source": [
    "# Soil information (binary data)\n",
    "\n",
    "train_data.iloc[:,15:56].describe()"
   ]
  },
  {
   "cell_type": "markdown",
   "metadata": {},
   "source": [
    "1 Cathedral family - Rock outcrop complex, extremely stony.\n",
    "\n",
    "2 Vanet - Ratake families complex, very stony.\n",
    "\n",
    "3 Haploborolis - Rock outcrop complex, rubbly.\n",
    "\n",
    "4 Ratake family - Rock outcrop complex, rubbly.\n",
    "\n",
    "5 Vanet family - Rock outcrop complex complex, rubbly.\n",
    "\n",
    "6 Vanet - Wetmore families - Rock outcrop complex, stony.\n",
    "\n",
    "7 Gothic family.\n",
    "\n",
    "8 Supervisor - Limber families complex.\n",
    "\n",
    "9 Troutville family, very stony.\n",
    "\n",
    "10 Bullwark - Catamount families - Rock outcrop complex, rubbly.\n",
    "\n",
    "11 Bullwark - Catamount families - Rock land complex, rubbly.\n",
    "\n",
    "12 Legault family - Rock land complex, stony.\n",
    "\n",
    "13 Catamount family - Rock land - Bullwark family complex, rubbly.\n",
    "\n",
    "14 Pachic Argiborolis - Aquolis complex.\n",
    "\n",
    "15 unspecified in the USFS Soil and ELU Survey.\n",
    "\n",
    "16 Cryaquolis - Cryoborolis complex.\n",
    "\n",
    "17 Gateview family - Cryaquolis complex.\n",
    "\n",
    "18 Rogert family, very stony.\n",
    "\n",
    "19 Typic Cryaquolis - Borohemists complex.\n",
    "\n",
    "20 Typic Cryaquepts - Typic Cryaquolls complex.\n",
    "\n",
    "21 Typic Cryaquolls - Leighcan family, till substratum complex.\n",
    "\n",
    "22 Leighcan family, till substratum, extremely bouldery.\n",
    "\n",
    "23 Leighcan family, till substratum - Typic Cryaquolls complex.\n",
    "24 Leighcan family, extremely stony.\n",
    "\n",
    "25 Leighcan family, warm, extremely stony.\n",
    "\n",
    "26 Granile - Catamount families complex, very stony.\n",
    "\n",
    "27 Leighcan family, warm - Rock outcrop complex, extremely stony.\n",
    "\n",
    "28 Leighcan family - Rock outcrop complex, extremely stony.\n",
    "\n",
    "29 Como - Legault families complex, extremely stony.\n",
    "\n",
    "30 Como family - Rock land - Legault family complex, extremely stony.\n",
    "\n",
    "31 Leighcan - Catamount families complex, extremely stony.\n",
    "\n",
    "32 Catamount family - Rock outcrop - Leighcan family complex, extremely stony.\n",
    "\n",
    "33 Leighcan - Catamount families - Rock outcrop complex, extremely stony.\n",
    "\n",
    "34 Cryorthents - Rock land complex, extremely stony.\n",
    "\n",
    "35 Cryumbrepts - Rock outcrop - Cryaquepts complex.\n",
    "\n",
    "36 Bross family - Rock land - Cryumbrepts complex, extremely stony.\n",
    "\n",
    "37 Rock outcrop - Cryumbrepts - Cryorthents complex, extremely stony.\n",
    "\n",
    "38 Leighcan - Moran families - Cryaquolls complex, extremely stony.\n",
    "\n",
    "39 Moran family - Cryorthents - Leighcan family complex, extremely stony.\n",
    "\n",
    "40 Moran family - Cryorthents - Rock land complex, extremely stony."
   ]
  },
  {
   "cell_type": "markdown",
   "metadata": {},
   "source": [
    "====================================================================================================================="
   ]
  },
  {
   "cell_type": "markdown",
   "metadata": {},
   "source": [
    "## 4. Feature Engineering"
   ]
  },
  {
   "cell_type": "markdown",
   "metadata": {},
   "source": [
    "### Feature information"
   ]
  },
  {
   "cell_type": "markdown",
   "metadata": {},
   "source": [
    "Elevation - Elevation in meters\n",
    "\n",
    "Aspect - Aspect in degrees azimuth\n",
    "\n",
    "Slope - Slope in degrees\n",
    "\n",
    "Horizontal_Distance_To_Hydrology - Horz Dist to nearest surface water features\n",
    "\n",
    "Vertical_Distance_To_Hydrology - Vert Dist to nearest surface water features\n",
    "\n",
    "Horizontal_Distance_To_Roadways - Horz Dist to nearest roadway\n",
    "\n",
    "Hillshade_9am (0 to 255 index) - Hillshade index at 9am, summer solstice\n",
    "\n",
    "Hillshade_Noon (0 to 255 index) - Hillshade index at noon, summer solstice\n",
    "\n",
    "Hillshade_3pm (0 to 255 index) - Hillshade index at 3pm, summer solstice\n",
    "\n",
    "Horizontal_Distance_To_Fire_Points - Horz Dist to nearest wildfire ignition points\n",
    "\n",
    "Wilderness_Area (4 binary columns, 0 = absence or 1 = presence) - Wilderness area designation\n",
    "\n",
    "Soil_Type (40 binary columns, 0 = absence or 1 = presence) - Soil Type designation\n",
    "\n",
    "Cover_Type (7 types, integers 1 to 7) - Forest Cover Type designation"
   ]
  },
  {
   "cell_type": "markdown",
   "metadata": {},
   "source": [
    "### *Adam*"
   ]
  },
  {
   "cell_type": "code",
   "execution_count": null,
   "metadata": {},
   "outputs": [],
   "source": [
    "soil_feature = pd.read_csv(\"./forest-cover-type-prediction/soil_feature.csv\")\n",
    "print(soil_feature.head())"
   ]
  },
  {
   "cell_type": "markdown",
   "metadata": {},
   "source": [
    "#### Feature Engineering Round 1 (Soil_Type15 , Id)\n",
    "'Soil_Type15' is 'unspecified in the USFS Soil and ELU Survey.' This is not a distinct category and therefore does not aid classification. <br>\n",
    "'Id' is not a feature, but rather acts to remove randomization, which is undesired.<br>\n",
    "\n",
    "* Eliminate any row containing 'Soil_Type15'. Eliminate column for 'Soil_Type15'.\n",
    "* Eliminate column for 'Id'"
   ]
  },
  {
   "cell_type": "code",
   "execution_count": null,
   "metadata": {},
   "outputs": [],
   "source": [
    "train_df1 = train_df[train_df['Soil_Type15'] == 0]\n",
    "test_df1 = train_df[test_df['Soil_Type15'] == 0]\n",
    "\n",
    "train_df1 = train_df.drop(columns = ['Id', 'Soil_Type15'])\n",
    "test_df1 = test_df.drop(columns = ['Id', 'Soil_Type15'])"
   ]
  },
  {
   "cell_type": "markdown",
   "metadata": {},
   "source": [
    "#### Feature Engineering Round 2 (Soil_Type to features, keep Soil_Type)\n",
    "Description of Soil Types yields commonalities which expands a sample's feature set.\n",
    "\n",
    "* Create single column in train_df & test_df for 'Soil_Type' to match soil_feature featurizer table.\n",
    "* Merge train_df and test_df on soil_feature featurizer table 'Soil_Type' column\n",
    "* Eliminate Soil_Type columns. \n",
    "* Inclusive of Round1"
   ]
  },
  {
   "cell_type": "code",
   "execution_count": null,
   "metadata": {},
   "outputs": [],
   "source": [
    "#Import data of featurizer table\n",
    "soil_feature = pd.read_csv('./forest-cover-type-prediction/soil_feature.csv')\n",
    "\n",
    "#Establish dataframes as deep copies\n",
    "train_df2 = train_df1.copy(deep= True)\n",
    "test_df2 = test_df1.copy(deep= True)\n",
    "\n",
    "#Aggregating soil types in train_df2 and test_df2 for use as merge index\n",
    "soil_cols = ['Soil_Type1', 'Soil_Type2', 'Soil_Type3', 'Soil_Type4', 'Soil_Type5',\n",
    "       'Soil_Type6', 'Soil_Type7', 'Soil_Type8', 'Soil_Type9', 'Soil_Type10',\n",
    "       'Soil_Type11', 'Soil_Type12', 'Soil_Type13', 'Soil_Type14',\n",
    "       'Soil_Type16', 'Soil_Type17', 'Soil_Type18', 'Soil_Type19',\n",
    "       'Soil_Type20', 'Soil_Type21', 'Soil_Type22', 'Soil_Type23',\n",
    "       'Soil_Type24', 'Soil_Type25', 'Soil_Type26', 'Soil_Type27',\n",
    "       'Soil_Type28', 'Soil_Type29', 'Soil_Type30', 'Soil_Type31',\n",
    "       'Soil_Type32', 'Soil_Type33', 'Soil_Type34', 'Soil_Type35',\n",
    "       'Soil_Type36', 'Soil_Type37', 'Soil_Type38', 'Soil_Type39',\n",
    "       'Soil_Type40']\n",
    "train_df2['Soil_Type'] = train_df2[soil_cols].idxmax(axis=1)\n",
    "test_df2['Soil_Type'] = test_df2[soil_cols].idxmax(axis=1)\n",
    "\n",
    "#Merging train_df2 and test_df2 with soil_feature\n",
    "train_df2 = train_df2.merge(soil_feature, how = 'left', on = 'Soil_Type')\n",
    "test_df2 = test_df2.merge(soil_feature, how = 'left', on = 'Soil_Type')\n",
    "\n",
    "#Manually reordering columns on train_df2 to make 'Cover_Type' at the end of the list.  \n",
    "#Note this is not necessary for test2_df due to absence of 'Cover_Type' column. \n",
    "#Also eliminating 'Soil_Type' columns.\n",
    "reordered_cols = ['Elevation', 'Aspect', 'Slope', 'Horizontal_Distance_To_Hydrology',\n",
    "       'Vertical_Distance_To_Hydrology', 'Horizontal_Distance_To_Roadways',\n",
    "       'Hillshade_9am', 'Hillshade_Noon', 'Hillshade_3pm',\n",
    "       'Horizontal_Distance_To_Fire_Points', 'Wilderness_Area1',\n",
    "       'Wilderness_Area2', 'Wilderness_Area3', 'Wilderness_Area4',\n",
    "       'Rock outcrop', 'Rock Land',\n",
    "#        'Complex',\n",
    "        'Stony', 'Rubbly', 'Cyraquolls', 'Cryumbrepts',\n",
    "       'Cryorthents', 'Leighcan', 'Till substratum', 'Catmount', 'Legault',\n",
    "       'Moran', 'Bullwark', 'Crayaquepts', 'Vanet', 'Como', 'Cover_Type']\n",
    "train_df2 = train_df2[reordered_cols]"
   ]
  },
  {
   "cell_type": "markdown",
   "metadata": {},
   "source": [
    "#### Feature Engineering Round 3 (Feature Reduction)\n",
    "Reducing features to only those w/ random forest scoring > 0.1\n",
    "* Inclusive of Round2"
   ]
  },
  {
   "cell_type": "code",
   "execution_count": null,
   "metadata": {},
   "outputs": [],
   "source": [
    "#Establish dataframes as deep copies\n",
    "train_df3 = train_df2.copy(deep= True)\n",
    "test_df3 = test_df2.copy(deep= True)\n",
    "\n",
    "train_df3 = train_df3.reset_index(drop=True)\n",
    "\n",
    "print(train_df3.columns)\n",
    "print(train_df3['Cover_Type'].head(9))\n",
    "\n",
    "train_keys = ['Elevation', 'Moran', 'Horizontal_Distance_To_Roadways', 'Cover_Type']\n",
    "test_keys = ['Elevation', 'Moran', 'Horizontal_Distance_To_Roadways']\n",
    "\n",
    "train_df3 = train_df3[train_keys]\n",
    "test_df3 = test_df3[test_keys]"
   ]
  },
  {
   "cell_type": "markdown",
   "metadata": {},
   "source": [
    "### *Curtis*"
   ]
  },
  {
   "cell_type": "code",
   "execution_count": null,
   "metadata": {},
   "outputs": [],
   "source": [
    "# normalize continuous variables of training data \n",
    "train_data_cont_norm = preprocessing.normalize(train_data_cont)\n",
    "train_data_cont_norm = pd.DataFrame(train_data_cont_norm)\n",
    "train_data_cont_norm.columns = train_data_cont.columns.values\n",
    "train_data_cont_norm.index = train_data_cont.index.values\n",
    "train_data_cont_norm.head()"
   ]
  },
  {
   "cell_type": "code",
   "execution_count": null,
   "metadata": {},
   "outputs": [],
   "source": [
    "# combine normalized continuous variable and binary variable of training data \n",
    "train_data_norm = pd.concat([train_data_cont_norm, train_data_disc], axis = 1)\n",
    "train_data_norm.head()"
   ]
  },
  {
   "cell_type": "code",
   "execution_count": null,
   "metadata": {},
   "outputs": [],
   "source": [
    "# normalize continuous variables of developmental data \n",
    "dev_data_cont_norm = preprocessing.normalize(dev_data_cont)\n",
    "dev_data_cont_norm = pd.DataFrame(dev_data_cont_norm)\n",
    "dev_data_cont_norm.columns = dev_data_cont.columns.values\n",
    "dev_data_cont_norm.index = dev_data_cont.index.values\n",
    "dev_data_cont_norm.head()"
   ]
  },
  {
   "cell_type": "code",
   "execution_count": null,
   "metadata": {},
   "outputs": [],
   "source": [
    "# combine normalized continuous variable and binary variable of developmental data \n",
    "dev_data_norm = pd.concat([dev_data_cont_norm, dev_data_disc], axis = 1)\n",
    "dev_data_norm.head()"
   ]
  },
  {
   "cell_type": "markdown",
   "metadata": {},
   "source": [
    "> using PCA to reduce soil features"
   ]
  },
  {
   "cell_type": "markdown",
   "metadata": {},
   "source": [
    "### *Chloe*"
   ]
  },
  {
   "cell_type": "code",
   "execution_count": 19,
   "metadata": {},
   "outputs": [
    {
     "name": "stderr",
     "output_type": "stream",
     "text": [
      "/anaconda3/lib/python3.7/site-packages/sklearn/ensemble/forest.py:246: FutureWarning: The default value of n_estimators will change from 10 in version 0.20 to 100 in 0.22.\n",
      "  \"10 in version 0.20 to 100 in 0.22.\", FutureWarning)\n"
     ]
    },
    {
     "name": "stdout",
     "output_type": "stream",
     "text": [
      "Features sorted by their score:\n",
      "[(0.4122, 'Elevation'), (0.0825, 'Horizontal_Distance_To_Fire_Points'), (0.0796, 'Horizontal_Distance_To_Roadways'), (0.0445, 'Soil_Type39'), (0.0441, 'Horizontal_Distance_To_Hydrology'), (0.0388, 'Vertical_Distance_To_Hydrology'), (0.0351, 'Aspect'), (0.0346, 'Hillshade_9am'), (0.0339, 'Hillshade_3pm'), (0.0303, 'Slope'), (0.029, 'Hillshade_Noon'), (0.028, 'Soil_Type38'), (0.0115, 'Wilderness_Area3'), (0.011, 'Soil_Type35'), (0.011, 'Soil_Type12'), (0.0108, 'Soil_Type32'), (0.0058, 'Soil_Type10'), (0.0053, 'Wilderness_Area1'), (0.0047, 'Soil_Type22'), (0.0043, 'Soil_Type40'), (0.0042, 'Soil_Type29'), (0.004, 'Soil_Type4'), (0.0039, 'Soil_Type33'), (0.0034, 'Soil_Type30'), (0.0029, 'Soil_Type13'), (0.0027, 'Soil_Type24'), (0.0026, 'Soil_Type23'), (0.0025, 'Soil_Type2'), (0.0022, 'Soil_Type31'), (0.0019, 'Soil_Type11'), (0.0018, 'Wilderness_Area2'), (0.0015, 'Wilderness_Area4'), (0.0015, 'Soil_Type34'), (0.0014, 'Soil_Type17'), (0.0013, 'Soil_Type20'), (0.0012, 'Soil_Type3'), (0.001, 'Soil_Type1'), (0.0007, 'Soil_Type5'), (0.0006, 'Soil_Type6'), (0.0004, 'Soil_Type26'), (0.0004, 'Soil_Type16'), (0.0002, 'Soil_Type9'), (0.0002, 'Soil_Type14'), (0.0001, 'Soil_Type37'), (0.0001, 'Soil_Type36'), (0.0001, 'Soil_Type27'), (0.0001, 'Soil_Type19'), (0.0001, 'Soil_Type18'), (0.0, 'Soil_Type8'), (0.0, 'Soil_Type7'), (0.0, 'Soil_Type28'), (0.0, 'Soil_Type25'), (0.0, 'Soil_Type21'), (0.0, 'Soil_Type15')]\n"
     ]
    }
   ],
   "source": [
    "# Rank feature importance based off Random Forest Regressor results\n",
    "names = train_df.columns.values\n",
    "rf = RandomForestRegressor()\n",
    "rf.fit(train_data, train_labels)\n",
    "print(\"Features sorted by their score:\")\n",
    "print(sorted(zip(map(lambda x: round(x, 4), rf.feature_importances_), names), \n",
    "             reverse=True))"
   ]
  },
  {
   "cell_type": "markdown",
   "metadata": {},
   "source": [
    "====================================================================================================================="
   ]
  },
  {
   "cell_type": "markdown",
   "metadata": {},
   "source": [
    "## 5. Sensible Methods and Error Analysis"
   ]
  },
  {
   "cell_type": "markdown",
   "metadata": {},
   "source": [
    "### <font color=blue> 5.1 k-nearest neighbor classifier </font>"
   ]
  },
  {
   "cell_type": "markdown",
   "metadata": {},
   "source": [
    "### *Adam*"
   ]
  },
  {
   "cell_type": "markdown",
   "metadata": {},
   "source": [
    "#### Function to score KNeighborsClassifier and GaussianNB results"
   ]
  },
  {
   "cell_type": "code",
   "execution_count": null,
   "metadata": {},
   "outputs": [],
   "source": [
    "def score_fn(classifier, feat_eng = train_df1):\n",
    "    '''Takes classifier function and feature engineering level as argument and returns score.'''\n",
    "    data_train, data_dev, label_train, label_dev = data_to_np(feat_eng)\n",
    "    cls = classifier\n",
    "    cls.fit(data_train, label_train)\n",
    "    cls_pred = cls.predict(data_dev)\n",
    "\n",
    "    return cls.score(data_dev, label_dev)"
   ]
  },
  {
   "cell_type": "markdown",
   "metadata": {},
   "source": [
    "#### Simple implementation of KNeighborsClassifier using default hyperparameters.  Feature Enginering Level1 "
   ]
  },
  {
   "cell_type": "code",
   "execution_count": null,
   "metadata": {},
   "outputs": [],
   "source": [
    "#Default knn parameters: (n_neighbors=5, weights=’uniform’, algorithm=’auto’, leaf_size=30, p=2, metric=’minkowski’, metric_params=None, n_jobs=None, **kwargs)[source]\n",
    "print('knn_score:', round(score_fn(classifier = KNeighborsClassifier(), feat_eng = train_df1),4))"
   ]
  },
  {
   "cell_type": "markdown",
   "metadata": {},
   "source": [
    "#### Simple implementation of KNeighborsClassifier using default hyperparameters. Feature Enginering Level2"
   ]
  },
  {
   "cell_type": "code",
   "execution_count": null,
   "metadata": {},
   "outputs": [],
   "source": [
    "#Default knn parameters: (n_neighbors=5, weights=’uniform’, algorithm=’auto’, leaf_size=30, p=2, metric=’minkowski’, metric_params=None, n_jobs=None, **kwargs)[source]\n",
    "print('knn_score:', round(score_fn(classifier = KNeighborsClassifier(), feat_eng = train_df2),4))"
   ]
  },
  {
   "cell_type": "markdown",
   "metadata": {},
   "source": [
    "#### Simple implementation of KNeighborsClassifier using default hyperparameters. Feature Enginering Level3"
   ]
  },
  {
   "cell_type": "code",
   "execution_count": null,
   "metadata": {},
   "outputs": [],
   "source": [
    "#Default knn parameters: (n_neighbors=5, weights=’uniform’, algorithm=’auto’, leaf_size=30, p=2, metric=’minkowski’, metric_params=None, n_jobs=None, **kwargs)[source]\n",
    "print('knn_score:', round(score_fn(classifier = KNeighborsClassifier(), feat_eng = train_df3),4))"
   ]
  },
  {
   "cell_type": "markdown",
   "metadata": {},
   "source": [
    "====================================================================================================================="
   ]
  },
  {
   "cell_type": "markdown",
   "metadata": {},
   "source": [
    "### <font color=blue> 5.2 Naive Bayes classifier </font>"
   ]
  },
  {
   "cell_type": "markdown",
   "metadata": {},
   "source": [
    "### *Adam*-GaussianNB"
   ]
  },
  {
   "cell_type": "code",
   "execution_count": null,
   "metadata": {},
   "outputs": [],
   "source": [
    "print(\"Level 1\")\n",
    "print('gnb_score:', round(score_fn(classifier = GaussianNB(), feat_eng = train_df1),4))\n",
    "print(\"Level 2\")\n",
    "print('gnb_score:', round(score_fn(classifier = GaussianNB(), feat_eng = train_df2),4))\n",
    "print(\"Level 3\")\n",
    "print('gnb_score:', round(score_fn(classifier = GaussianNB(), feat_eng = train_df3),4))"
   ]
  },
  {
   "cell_type": "markdown",
   "metadata": {},
   "source": [
    "### *Curtis*-GaussianNB"
   ]
  },
  {
   "cell_type": "code",
   "execution_count": null,
   "metadata": {},
   "outputs": [],
   "source": [
    "clfGNB = GaussianNB()\n",
    "clfGNB.fit(train_data_noID, train_cover_types)\n",
    "dev_predGNB = clfGNB.predict(dev_data_noID)\n",
    "pred_accuGNB = accuracy_score(dev_cover_types, dev_predGNB)\n",
    "print(\"GNB_score: %0.4f\" %pred_accuGNB)"
   ]
  },
  {
   "cell_type": "markdown",
   "metadata": {},
   "source": [
    "====================================================================================================================="
   ]
  },
  {
   "cell_type": "markdown",
   "metadata": {},
   "source": [
    "### <font color=blue> 5.3 Random forest and decision tree classifier</font>"
   ]
  },
  {
   "cell_type": "markdown",
   "metadata": {},
   "source": [
    "### *Erik*"
   ]
  },
  {
   "cell_type": "code",
   "execution_count": null,
   "metadata": {},
   "outputs": [],
   "source": [
    "dt = DecisionTreeClassifier(criterion=\"entropy\", splitter=\"best\", random_state=0)\n",
    "dt.fit(train_data, train_labels)\n",
    "\n",
    "print('Accuracy (a decision tree):', dt.score(dev_data, dev_labels))\n",
    "\n",
    "rfc = RandomForestClassifier(n_estimators=100)\n",
    "rfc.fit(train_data, train_labels)\n",
    "\n",
    "print('Accuracy (a random forest):', rfc.score(dev_data, dev_labels))\n",
    "\n",
    "abc = AdaBoostClassifier(base_estimator=DecisionTreeClassifier(max_depth=1), n_estimators=100, learning_rate=0.1)\n",
    "\n",
    "abc.fit(train_data, train_labels)\n",
    "print('Accuracy (adaboost with decision trees):', abc.score(dev_data, dev_labels))"
   ]
  },
  {
   "cell_type": "markdown",
   "metadata": {},
   "source": [
    "### *Adam*"
   ]
  },
  {
   "cell_type": "code",
   "execution_count": null,
   "metadata": {},
   "outputs": [],
   "source": [
    "#Random Forest Regressor for Feature Engineering Round1\n",
    "X_train, X_dev, y_train, y_dev = data_to_np(train_df1)\n",
    "names = train_df1.columns.values\n",
    "rf = RandomForestRegressor()\n",
    "rf.fit(X_train, y_train)\n",
    "print(\"Features sorted by their score:\")\n",
    "print(sorted(zip(map(lambda x: round(x, 4), rf.feature_importances_), names), \n",
    "             reverse=True))"
   ]
  },
  {
   "cell_type": "code",
   "execution_count": null,
   "metadata": {},
   "outputs": [],
   "source": [
    "#Random Forest Regressor for Feature Engineering Round2\n",
    "X_train, X_dev, y_train, y_dev = data_to_np(train_df2)\n",
    "names = train_df2.columns.values\n",
    "rf = RandomForestRegressor()\n",
    "rf.fit(X_train, y_train)\n",
    "print(\"Features sorted by their score:\")\n",
    "print(sorted(zip(map(lambda x: round(x, 4), rf.feature_importances_), names), \n",
    "             reverse=True))"
   ]
  },
  {
   "cell_type": "markdown",
   "metadata": {},
   "source": [
    "====================================================================================================================="
   ]
  },
  {
   "cell_type": "markdown",
   "metadata": {},
   "source": [
    "### <font color=blue> 5.4 Logistic Regression classifier</font>"
   ]
  },
  {
   "cell_type": "markdown",
   "metadata": {},
   "source": [
    "### *Chloe*"
   ]
  },
  {
   "cell_type": "code",
   "execution_count": 20,
   "metadata": {},
   "outputs": [
    {
     "name": "stderr",
     "output_type": "stream",
     "text": [
      "/anaconda3/lib/python3.7/site-packages/sklearn/linear_model/logistic.py:433: FutureWarning: Default solver will be changed to 'lbfgs' in 0.22. Specify a solver to silence this warning.\n",
      "  FutureWarning)\n",
      "/anaconda3/lib/python3.7/site-packages/sklearn/linear_model/logistic.py:460: FutureWarning: Default multi_class will be changed to 'auto' in 0.22. Specify the multi_class option to silence this warning.\n",
      "  \"this warning.\", FutureWarning)\n"
     ]
    },
    {
     "name": "stdout",
     "output_type": "stream",
     "text": [
      "F1 score: 0.6629084597234868\n"
     ]
    }
   ],
   "source": [
    "# Train a default Logistic Regression model\n",
    "model = LogisticRegression()  \n",
    "model.fit(train_data, train_labels)\n",
    "model_preds = model.predict(dev_data)\n",
    "model_score = metrics.f1_score(dev_labels, model_preds, average='weighted')\n",
    "print(\"F1 score:\", model_score)"
   ]
  },
  {
   "cell_type": "code",
   "execution_count": 21,
   "metadata": {},
   "outputs": [
    {
     "name": "stdout",
     "output_type": "stream",
     "text": [
      "F1 score of liblinear solver: 0.6629084597234868\n"
     ]
    }
   ],
   "source": [
    "# Train a Logistic Regression model with liblinear solver\n",
    "model1 = LogisticRegression(solver='liblinear', multi_class='auto')  \n",
    "model1.fit(train_data, train_labels)\n",
    "model1_preds = model1.predict(dev_data)\n",
    "model1_score = metrics.f1_score(dev_labels, model1_preds, average='weighted')\n",
    "print(\"F1 score of liblinear solver:\", model1_score)"
   ]
  },
  {
   "cell_type": "code",
   "execution_count": 22,
   "metadata": {},
   "outputs": [
    {
     "name": "stdout",
     "output_type": "stream",
     "text": [
      "F1 score of liblinear solver, L1 penalty: 0.6629084597234868\n"
     ]
    },
    {
     "name": "stderr",
     "output_type": "stream",
     "text": [
      "/anaconda3/lib/python3.7/site-packages/sklearn/svm/base.py:922: ConvergenceWarning: Liblinear failed to converge, increase the number of iterations.\n",
      "  \"the number of iterations.\", ConvergenceWarning)\n"
     ]
    }
   ],
   "source": [
    "# Train a Logistic Regression model with liblinear solver, penalty='l1'\n",
    "model3 = LogisticRegression(solver='liblinear', multi_class='auto', penalty='l1')  \n",
    "model3.fit(train_data, train_labels)\n",
    "model3_preds = model3.predict(dev_data)\n",
    "model3_score = metrics.f1_score(dev_labels, model3_preds, average='weighted')\n",
    "print(\"F1 score of liblinear solver, L1 penalty:\", model1_score)"
   ]
  },
  {
   "cell_type": "code",
   "execution_count": 23,
   "metadata": {},
   "outputs": [
    {
     "name": "stdout",
     "output_type": "stream",
     "text": [
      "F1 score of model with C = 0.001 is 0.586872559526497\n",
      "F1 score of model with C = 0.01 is 0.649643022944367\n",
      "F1 score of model with C = 0.03 is 0.662672618109299\n",
      "F1 score of model with C = 0.1 is 0.6679484164066616\n",
      "F1 score of model with C = 0.2 is 0.6715836619475961\n",
      "F1 score of model with C = 0.3 is 0.6655439674133876\n",
      "F1 score of model with C = 0.5 is 0.6726473083214994\n",
      "F1 score of model with C = 0.7 is 0.6654170517566664\n",
      "F1 score of model with C = 0.8 is 0.6689159542877857\n",
      "F1 score of model with C = 1.0 is 0.6629084597234868\n",
      "F1 score of model with C = 2.0 is 0.667074477172022\n",
      "F1 score of model with C = 10.0 is 0.6672903257312109\n"
     ]
    }
   ],
   "source": [
    "# Experiment with different C\n",
    "c_values = [0.001, 0.01, 0.03, 0.1, 0.2, 0.3, 0.5, 0.7, 0.8, 1.0, 2.0, 10.0]\n",
    "\n",
    "for i in c_values:\n",
    "    model = LogisticRegression(C=i, penalty='l2', solver='liblinear', multi_class='auto')\n",
    "    model.fit(train_data, train_labels)\n",
    "    model_preds = model.predict(dev_data)\n",
    "\n",
    "    print(\"F1 score of model with C =\", i, \"is\", \n",
    "          metrics.f1_score(dev_labels, model_preds, average='weighted'))"
   ]
  },
  {
   "cell_type": "code",
   "execution_count": 24,
   "metadata": {},
   "outputs": [
    {
     "name": "stderr",
     "output_type": "stream",
     "text": [
      "/anaconda3/lib/python3.7/site-packages/sklearn/svm/base.py:922: ConvergenceWarning: Liblinear failed to converge, increase the number of iterations.\n",
      "  \"the number of iterations.\", ConvergenceWarning)\n",
      "/anaconda3/lib/python3.7/site-packages/sklearn/svm/base.py:922: ConvergenceWarning: Liblinear failed to converge, increase the number of iterations.\n",
      "  \"the number of iterations.\", ConvergenceWarning)\n",
      "/anaconda3/lib/python3.7/site-packages/sklearn/svm/base.py:922: ConvergenceWarning: Liblinear failed to converge, increase the number of iterations.\n",
      "  \"the number of iterations.\", ConvergenceWarning)\n",
      "/anaconda3/lib/python3.7/site-packages/sklearn/svm/base.py:922: ConvergenceWarning: Liblinear failed to converge, increase the number of iterations.\n",
      "  \"the number of iterations.\", ConvergenceWarning)\n",
      "/anaconda3/lib/python3.7/site-packages/sklearn/svm/base.py:922: ConvergenceWarning: Liblinear failed to converge, increase the number of iterations.\n",
      "  \"the number of iterations.\", ConvergenceWarning)\n",
      "/anaconda3/lib/python3.7/site-packages/sklearn/svm/base.py:922: ConvergenceWarning: Liblinear failed to converge, increase the number of iterations.\n",
      "  \"the number of iterations.\", ConvergenceWarning)\n",
      "/anaconda3/lib/python3.7/site-packages/sklearn/svm/base.py:922: ConvergenceWarning: Liblinear failed to converge, increase the number of iterations.\n",
      "  \"the number of iterations.\", ConvergenceWarning)\n",
      "/anaconda3/lib/python3.7/site-packages/sklearn/svm/base.py:922: ConvergenceWarning: Liblinear failed to converge, increase the number of iterations.\n",
      "  \"the number of iterations.\", ConvergenceWarning)\n",
      "/anaconda3/lib/python3.7/site-packages/sklearn/svm/base.py:922: ConvergenceWarning: Liblinear failed to converge, increase the number of iterations.\n",
      "  \"the number of iterations.\", ConvergenceWarning)\n",
      "/anaconda3/lib/python3.7/site-packages/sklearn/svm/base.py:922: ConvergenceWarning: Liblinear failed to converge, increase the number of iterations.\n",
      "  \"the number of iterations.\", ConvergenceWarning)\n",
      "/anaconda3/lib/python3.7/site-packages/sklearn/svm/base.py:922: ConvergenceWarning: Liblinear failed to converge, increase the number of iterations.\n",
      "  \"the number of iterations.\", ConvergenceWarning)\n",
      "/anaconda3/lib/python3.7/site-packages/sklearn/svm/base.py:922: ConvergenceWarning: Liblinear failed to converge, increase the number of iterations.\n",
      "  \"the number of iterations.\", ConvergenceWarning)\n",
      "/anaconda3/lib/python3.7/site-packages/sklearn/svm/base.py:922: ConvergenceWarning: Liblinear failed to converge, increase the number of iterations.\n",
      "  \"the number of iterations.\", ConvergenceWarning)\n",
      "/anaconda3/lib/python3.7/site-packages/sklearn/svm/base.py:922: ConvergenceWarning: Liblinear failed to converge, increase the number of iterations.\n",
      "  \"the number of iterations.\", ConvergenceWarning)\n",
      "/anaconda3/lib/python3.7/site-packages/sklearn/svm/base.py:922: ConvergenceWarning: Liblinear failed to converge, increase the number of iterations.\n",
      "  \"the number of iterations.\", ConvergenceWarning)\n",
      "/anaconda3/lib/python3.7/site-packages/sklearn/svm/base.py:922: ConvergenceWarning: Liblinear failed to converge, increase the number of iterations.\n",
      "  \"the number of iterations.\", ConvergenceWarning)\n",
      "/anaconda3/lib/python3.7/site-packages/sklearn/svm/base.py:922: ConvergenceWarning: Liblinear failed to converge, increase the number of iterations.\n",
      "  \"the number of iterations.\", ConvergenceWarning)\n",
      "/anaconda3/lib/python3.7/site-packages/sklearn/svm/base.py:922: ConvergenceWarning: Liblinear failed to converge, increase the number of iterations.\n",
      "  \"the number of iterations.\", ConvergenceWarning)\n",
      "/anaconda3/lib/python3.7/site-packages/sklearn/svm/base.py:922: ConvergenceWarning: Liblinear failed to converge, increase the number of iterations.\n",
      "  \"the number of iterations.\", ConvergenceWarning)\n",
      "/anaconda3/lib/python3.7/site-packages/sklearn/svm/base.py:922: ConvergenceWarning: Liblinear failed to converge, increase the number of iterations.\n",
      "  \"the number of iterations.\", ConvergenceWarning)\n"
     ]
    },
    {
     "name": "stdout",
     "output_type": "stream",
     "text": [
      "Optimal C parameter: {'C': 0.5700000000000001}\n"
     ]
    },
    {
     "name": "stderr",
     "output_type": "stream",
     "text": [
      "/anaconda3/lib/python3.7/site-packages/sklearn/linear_model/logistic.py:433: FutureWarning: Default solver will be changed to 'lbfgs' in 0.22. Specify a solver to silence this warning.\n",
      "  FutureWarning)\n",
      "/anaconda3/lib/python3.7/site-packages/sklearn/linear_model/logistic.py:460: FutureWarning: Default multi_class will be changed to 'auto' in 0.22. Specify the multi_class option to silence this warning.\n",
      "  \"this warning.\", FutureWarning)\n"
     ]
    },
    {
     "name": "stdout",
     "output_type": "stream",
     "text": [
      "F1 score: 0.6691337539199163\n"
     ]
    }
   ],
   "source": [
    "# Use GridSearchCV to xperiment with different C\n",
    "c_values = {'C': np.arange(0.01, 1.0 ,0.01)}\n",
    "grid = GridSearchCV(LogisticRegression(solver='liblinear', multi_class='auto'), param_grid=c_values, cv=5)\n",
    "grid.fit(train_data, train_labels)\n",
    "print('Optimal C parameter:', grid.best_params_)\n",
    "\n",
    "best_logit = LogisticRegression(C=grid.best_params_['C'])\n",
    "best_logit.fit(train_data, train_labels)\n",
    "best_predict = best_logit.predict(dev_data)\n",
    "best_score = metrics.f1_score(dev_labels, best_predict, average='weighted')\n",
    "print(\"F1 score:\", best_score)"
   ]
  },
  {
   "cell_type": "markdown",
   "metadata": {},
   "source": [
    "====================================================================================================================="
   ]
  },
  {
   "cell_type": "markdown",
   "metadata": {},
   "source": [
    "### <font color=blue> 5.5 Support-vector machine classifier</font>"
   ]
  },
  {
   "cell_type": "markdown",
   "metadata": {},
   "source": [
    "### *Curtis*"
   ]
  },
  {
   "cell_type": "code",
   "execution_count": null,
   "metadata": {},
   "outputs": [],
   "source": [
    "### GridSearchCV\n",
    "\n",
    "# parameters = {'kernel':('linear', 'rbf'), 'C':[1, 10, 100, 1000], \n",
    "#               'decision_function_shape': ('ovo', 'ovr'), 'gamma': ('auto', 'scale')}\n",
    "\n",
    "parameters = {'C':[1, 10, 100, 1000], 'kernel':('linear', 'rbf')}\n",
    "clf = svm.SVC(gamma = 'scale')\n",
    "svc_all = GridSearchCV(clf, parameters, cv=5)\n",
    "svc_all.fit(train_data_norm, train_cover_types)\n",
    "dev_pred = svc_all.predict(dev_data_norm)\n",
    "pred_accu = accuracy_score(dev_cover_types, dev_pred)\n",
    "print(svc_all.cv_results_)\n",
    "print(\"Highest accuary score: %0.4f\" %pred_accu)"
   ]
  },
  {
   "cell_type": "code",
   "execution_count": null,
   "metadata": {},
   "outputs": [],
   "source": [
    "### Single model\n",
    "\n",
    "clf = svm.SVC(C = 1000, kernel = 'rbf', gamma = 'scale')\n",
    "clf.fit(train_data_norm, train_cover_types)\n",
    "dev_pred = clf.predict(dev_data_norm)\n",
    "pred_accu = accuracy_score(dev_cover_types, dev_pred)\n",
    "print(\"SVM accuary score: %0.4f\" %pred_accu)\n"
   ]
  },
  {
   "cell_type": "code",
   "execution_count": null,
   "metadata": {},
   "outputs": [],
   "source": [
    "### only with continuous variables\n",
    "\n",
    "clf_cont = svm.SVC(C = 1000, kernel = 'rbf', gamma = 'scale')\n",
    "clf_cont.fit(train_data_cont_norm, train_cover_types)\n",
    "dev_pred_cont = clf_cont.predict(dev_data_cont_norm)\n",
    "pred_accu_cont = accuracy_score(dev_cover_types, dev_pred_cont)\n",
    "print(\"SVM accuary score (only continuous variables): %0.4f\" %pred_accu_cont)"
   ]
  },
  {
   "cell_type": "code",
   "execution_count": null,
   "metadata": {},
   "outputs": [],
   "source": [
    "### only discrete variables\n",
    "\n",
    "clf_disc = svm.SVC(C = 1000, kernel = 'rbf', gamma = 'scale')\n",
    "clf_disc.fit(train_data_disc, train_cover_types)\n",
    "dev_pred_disc = clf_disc.predict(dev_data_disc)\n",
    "pred_accu_cont = accuracy_score(dev_cover_types, dev_pred_disc)\n",
    "print(\"SVM accuary score (only discrete variables): %0.4f\" %pred_accu_cont)"
   ]
  },
  {
   "cell_type": "markdown",
   "metadata": {},
   "source": [
    "====================================================================================================================="
   ]
  },
  {
   "cell_type": "markdown",
   "metadata": {},
   "source": [
    "## 6. Model Comparions, Findings and Conclusions"
   ]
  },
  {
   "cell_type": "markdown",
   "metadata": {},
   "source": [
    "### *Erik*"
   ]
  },
  {
   "cell_type": "markdown",
   "metadata": {},
   "source": [
    "### General\n",
    "* The most direct correlations with cover type come from some soil type\n",
    "* we have all zero for soil type 7 and 15, smoothing is required for NB if we want to keep the features\n",
    "* Make sure ID is not used in training \n",
    "* The feature space is not sparse because it's mostly binary data and there's only 55 features\n",
    "* Use cross-validation to optimize hyper-parameter\n",
    "* The mean of soil_type features are all significantly below 0.5. Mostly below 0.1. Therefore, this means most cover_types have many soil_type = 0. We can try summing the soil_type features and maybe some pattern will emerge (some cover type are corresponding to diverse soil types and that's a good supplement feature to use)\n",
    "\n",
    "#### KNN\n",
    "* we will need to standardize the features if we want to make the features roughly contributes equally to the predictions\n",
    "\n",
    "#### Naive Bayes\n",
    "* we will need to binarize the dataset to use bernoulliNB since more than half of our variables are binary\n",
    "* Conditional Independence:\n",
    "    * We see that after conditioning on a specific cover type, the correlation increases especially when the features besides cover-types are involved. We need to take out the strongly correlated features before training\n",
    "\n",
    "#### Decision Tree\n",
    "* Make sure ID is not used in training\n",
    "* Watch out for over fitting\n",
    "\n",
    "#### Logistic Regression\n",
    "* use one vs all\n",
    "* some regularization\n",
    "\n",
    "#### Neural Nets"
   ]
  },
  {
   "cell_type": "markdown",
   "metadata": {},
   "source": [
    "> Can we use different sets of features for different models"
   ]
  },
  {
   "cell_type": "markdown",
   "metadata": {},
   "source": [
    "### *Adam*"
   ]
  },
  {
   "cell_type": "markdown",
   "metadata": {},
   "source": [
    "https://stats.stackexchange.com/questions/169400/naive-bayes-questions-continus-data-negative-data-and-multinomialnb-in-scikit\n",
    "Why can't negative data be used here?\n",
    "MultinomialNB assumes that features have multinomial distribution which is a generalization of the binomial distribution. Neither binomial nor multinomial distributions can contain negative values.\n",
    "\n",
    "How is scikit-learn handling the continuous data?\n",
    "If you want to work with bayesian methods use GaussianNb but generally there are a lot of estimators capable of handling continuous data in scikit-learn."
   ]
  },
  {
   "cell_type": "markdown",
   "metadata": {},
   "source": [
    "<font color=red>**Plot Probability Calibration curves (for model comparison)** </font>\n",
    "\n",
    "https://scikit-learn.org/stable/auto_examples/calibration/plot_calibration_curve.html#sphx-glr-auto-examples-calibration-plot-calibration-curve-py"
   ]
  },
  {
   "cell_type": "code",
   "execution_count": null,
   "metadata": {},
   "outputs": [],
   "source": []
  }
 ],
 "metadata": {
  "kernelspec": {
   "display_name": "Python 3",
   "language": "python",
   "name": "python3"
  },
  "language_info": {
   "codemirror_mode": {
    "name": "ipython",
    "version": 3
   },
   "file_extension": ".py",
   "mimetype": "text/x-python",
   "name": "python",
   "nbconvert_exporter": "python",
   "pygments_lexer": "ipython3",
   "version": "3.7.1"
  }
 },
 "nbformat": 4,
 "nbformat_minor": 2
}
